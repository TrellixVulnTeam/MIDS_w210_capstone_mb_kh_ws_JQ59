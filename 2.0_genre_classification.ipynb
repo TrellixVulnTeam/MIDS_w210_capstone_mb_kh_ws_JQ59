{
 "cells": [
  {
   "cell_type": "markdown",
   "metadata": {},
   "source": [
    "## 2.0 Genre Classification\n",
    "\n",
    "This notebook continues with supervised learning using the generated spectorgrams to do genre classification and prediction."
   ]
  },
  {
   "cell_type": "markdown",
   "metadata": {},
   "source": [
    "### Table of Contents\n",
    "[2.1. Setup](#1.)<br>\n",
    "[2.1.1 Loading libraries](#1.1)<br>\n",
    "[2.1.2 Setting spectrogram directories](#1.2)<br>\n",
    "[2.1.3 Splitting into train, validation, and test sets](#1.3)<br>\n",
    "\n",
    "[2.2. Exploratory data analysis](#2.)<br>\n",
    "[2.2.1 EDA on train set](#2.1)<br>\n",
    "[2.2.2 TBA](#2.2)<br>\n",
    "\n",
    "[2.3. Convolutional Neural Network](#3.)<br>\n",
    "[2.3.1 CNN setup](#3.1)<br>\n",
    "[2.3.2 Baseline CNN](#3.2)<br>\n",
    "[2.3.3 EfficientNet scaling of CNN](#3.3)<br>"
   ]
  },
  {
   "cell_type": "markdown",
   "metadata": {},
   "source": [
    "### 2.1. Setup <a class=\"anchor\" id=\"1.\"></a>"
   ]
  },
  {
   "cell_type": "markdown",
   "metadata": {},
   "source": [
    "#### 2.1.1 Loading libraries <a class=\"anchor\" id=\"1.1\"></a>"
   ]
  },
  {
   "cell_type": "code",
   "execution_count": 5,
   "metadata": {},
   "outputs": [],
   "source": [
    "import os\n",
    "import numpy as np\n",
    "import pandas as pd\n",
    "import random\n",
    "import librosa\n",
    "import librosa.display\n",
    "import matplotlib.pyplot as plt\n",
    "%matplotlib inline"
   ]
  },
  {
   "cell_type": "markdown",
   "metadata": {},
   "source": [
    "#### 2.1.2 Setting spectrogram directories <a class=\"anchor\" id=\"1.2\"></a>"
   ]
  },
  {
   "cell_type": "code",
   "execution_count": 27,
   "metadata": {},
   "outputs": [
    {
     "name": "stdout",
     "output_type": "stream",
     "text": [
      "Type of spectrograms used for the analysis: spect_subsample_10s\n",
      "Directory of spectrograms: ./data/spect_subsample_10s\n"
     ]
    }
   ],
   "source": [
    "# Different sets of spectrograms\n",
    "spect_dict = {'full': 'spect_full', 'subsample_10s': 'spect_subsample_10s'}\n",
    "# Select the relevant spectrogram set \n",
    "spect_type = spect_dict['subsample_10s']\n",
    "print(\"Type of spectrograms used for the analysis: {}\".format(spect_type))\n",
    "# Set the directory for the spectrograms\n",
    "spect_dir = f'./data/{spect_type}'\n",
    "print(\"Directory of spectrograms: {}\".format(spect_dir))"
   ]
  },
  {
   "cell_type": "markdown",
   "metadata": {},
   "source": [
    "#### 2.1.3 Splitting into train, validation, and test sets <a class=\"anchor\" id=\"1.3\"></a>"
   ]
  },
  {
   "cell_type": "code",
   "execution_count": 17,
   "metadata": {},
   "outputs": [
    {
     "name": "stdout",
     "output_type": "stream",
     "text": [
      "Shape of 'tracks' dataframe: (7994, 9)\n"
     ]
    },
    {
     "data": {
      "text/html": [
       "<div>\n",
       "<style scoped>\n",
       "    .dataframe tbody tr th:only-of-type {\n",
       "        vertical-align: middle;\n",
       "    }\n",
       "\n",
       "    .dataframe tbody tr th {\n",
       "        vertical-align: top;\n",
       "    }\n",
       "\n",
       "    .dataframe thead tr th {\n",
       "        text-align: left;\n",
       "    }\n",
       "\n",
       "    .dataframe thead tr:last-of-type th {\n",
       "        text-align: right;\n",
       "    }\n",
       "</style>\n",
       "<table border=\"1\" class=\"dataframe\">\n",
       "  <thead>\n",
       "    <tr>\n",
       "      <th></th>\n",
       "      <th>set</th>\n",
       "      <th colspan=\"2\" halign=\"left\">artist</th>\n",
       "      <th colspan=\"6\" halign=\"left\">track</th>\n",
       "    </tr>\n",
       "    <tr>\n",
       "      <th></th>\n",
       "      <th>split</th>\n",
       "      <th>id</th>\n",
       "      <th>favorites</th>\n",
       "      <th>date_created</th>\n",
       "      <th>genre_top</th>\n",
       "      <th>genres</th>\n",
       "      <th>favorites</th>\n",
       "      <th>interest</th>\n",
       "      <th>listens</th>\n",
       "    </tr>\n",
       "    <tr>\n",
       "      <th>track_id</th>\n",
       "      <th></th>\n",
       "      <th></th>\n",
       "      <th></th>\n",
       "      <th></th>\n",
       "      <th></th>\n",
       "      <th></th>\n",
       "      <th></th>\n",
       "      <th></th>\n",
       "      <th></th>\n",
       "    </tr>\n",
       "  </thead>\n",
       "  <tbody>\n",
       "    <tr>\n",
       "      <th>2</th>\n",
       "      <td>training</td>\n",
       "      <td>1</td>\n",
       "      <td>9</td>\n",
       "      <td>2008-11-26 01:48:12</td>\n",
       "      <td>Hip-Hop</td>\n",
       "      <td>[21]</td>\n",
       "      <td>2</td>\n",
       "      <td>4656</td>\n",
       "      <td>1293</td>\n",
       "    </tr>\n",
       "    <tr>\n",
       "      <th>5</th>\n",
       "      <td>training</td>\n",
       "      <td>1</td>\n",
       "      <td>9</td>\n",
       "      <td>2008-11-26 01:48:20</td>\n",
       "      <td>Hip-Hop</td>\n",
       "      <td>[21]</td>\n",
       "      <td>6</td>\n",
       "      <td>1933</td>\n",
       "      <td>1151</td>\n",
       "    </tr>\n",
       "    <tr>\n",
       "      <th>10</th>\n",
       "      <td>training</td>\n",
       "      <td>6</td>\n",
       "      <td>74</td>\n",
       "      <td>2008-11-25 17:49:06</td>\n",
       "      <td>Pop</td>\n",
       "      <td>[10]</td>\n",
       "      <td>178</td>\n",
       "      <td>54881</td>\n",
       "      <td>50135</td>\n",
       "    </tr>\n",
       "    <tr>\n",
       "      <th>140</th>\n",
       "      <td>training</td>\n",
       "      <td>54</td>\n",
       "      <td>11</td>\n",
       "      <td>2008-11-26 01:44:07</td>\n",
       "      <td>Folk</td>\n",
       "      <td>[17]</td>\n",
       "      <td>5</td>\n",
       "      <td>1593</td>\n",
       "      <td>1299</td>\n",
       "    </tr>\n",
       "    <tr>\n",
       "      <th>141</th>\n",
       "      <td>training</td>\n",
       "      <td>54</td>\n",
       "      <td>11</td>\n",
       "      <td>2008-11-26 01:44:10</td>\n",
       "      <td>Folk</td>\n",
       "      <td>[17]</td>\n",
       "      <td>1</td>\n",
       "      <td>839</td>\n",
       "      <td>725</td>\n",
       "    </tr>\n",
       "  </tbody>\n",
       "</table>\n",
       "</div>"
      ],
      "text/plain": [
       "               set artist                          track                   \\\n",
       "             split     id favorites         date_created genre_top genres   \n",
       "track_id                                                                    \n",
       "2         training      1         9  2008-11-26 01:48:12   Hip-Hop   [21]   \n",
       "5         training      1         9  2008-11-26 01:48:20   Hip-Hop   [21]   \n",
       "10        training      6        74  2008-11-25 17:49:06       Pop   [10]   \n",
       "140       training     54        11  2008-11-26 01:44:07      Folk   [17]   \n",
       "141       training     54        11  2008-11-26 01:44:10      Folk   [17]   \n",
       "\n",
       "                                     \n",
       "         favorites interest listens  \n",
       "track_id                             \n",
       "2                2     4656    1293  \n",
       "5                6     1933    1151  \n",
       "10             178    54881   50135  \n",
       "140              5     1593    1299  \n",
       "141              1      839     725  "
      ]
     },
     "execution_count": 17,
     "metadata": {},
     "output_type": "execute_result"
    }
   ],
   "source": [
    "# Read in the tracks.csv\n",
    "tracks = pd.read_csv('tracks.csv', index_col=0, header=[0,1])\n",
    "print(\"Shape of 'tracks' dataframe: {}\".format(tracks.shape))\n",
    "tracks.head()"
   ]
  },
  {
   "cell_type": "code",
   "execution_count": 24,
   "metadata": {},
   "outputs": [
    {
     "name": "stdout",
     "output_type": "stream",
     "text": [
      "No. of samples for train, validation, test are: 6394, 800, 800\n",
      "Percentage splits for train, validation, test are: 80%, 10%, 10%\n"
     ]
    }
   ],
   "source": [
    "# Split into sets of train, validation, test\n",
    "train_df = tracks[tracks[('set','split')] == 'training']\n",
    "val_df = tracks[tracks[('set','split')] == 'validation']\n",
    "test_df = tracks[tracks[('set','split')] == 'test']\n",
    "\n",
    "# Getting arrays of track ids for the train, validation, test sets\n",
    "train_tids = train_df.index\n",
    "val_tids = val_df.index\n",
    "test_tids = test_df.index\n",
    "\n",
    "print(\"No. of samples for train, validation, test are: {}, {}, {}\".format(\n",
    "    len(train_df), len(val_df), len(test_df)))\n",
    "\n",
    "print(\"Percentage splits for train, validation, test are: {:.0f}%, {:.0f}%, {:.0f}%\".format(\n",
    "    len(train_df)/len(tracks)*100, len(val_df)/len(tracks)*100, len(test_df)/len(tracks)*100))"
   ]
  },
  {
   "cell_type": "code",
   "execution_count": 28,
   "metadata": {},
   "outputs": [
    {
     "data": {
      "text/plain": [
       "['Hip-Hop',\n",
       " 'Pop',\n",
       " 'Folk',\n",
       " 'Experimental',\n",
       " 'Rock',\n",
       " 'International',\n",
       " 'Electronic',\n",
       " 'Instrumental']"
      ]
     },
     "execution_count": 28,
     "metadata": {},
     "output_type": "execute_result"
    }
   ],
   "source": [
    "genre_list = list(tracks[('track','genre_top')].unique())\n",
    "genre_list"
   ]
  },
  {
   "cell_type": "markdown",
   "metadata": {},
   "source": [
    "### 2.2. Exploratory Data Analysis <a class=\"anchor\" id=\"2.\"></a>\n"
   ]
  },
  {
   "cell_type": "code",
   "execution_count": null,
   "metadata": {},
   "outputs": [],
   "source": []
  },
  {
   "cell_type": "markdown",
   "metadata": {},
   "source": [
    "#### 2.2.1 EDA on train set <a class=\"anchor\" id=\"2.1\"></a>"
   ]
  },
  {
   "cell_type": "code",
   "execution_count": null,
   "metadata": {},
   "outputs": [],
   "source": []
  },
  {
   "cell_type": "markdown",
   "metadata": {},
   "source": [
    "#### 2.2.2 TBA <a class=\"anchor\" id=\"2.2\"></a>"
   ]
  },
  {
   "cell_type": "code",
   "execution_count": null,
   "metadata": {},
   "outputs": [],
   "source": []
  },
  {
   "cell_type": "markdown",
   "metadata": {},
   "source": [
    "### 2.3. Convolutional Neural Network <a class=\"anchor\" id=\"3.\"></a>"
   ]
  },
  {
   "cell_type": "code",
   "execution_count": null,
   "metadata": {},
   "outputs": [],
   "source": []
  },
  {
   "cell_type": "markdown",
   "metadata": {},
   "source": [
    "#### 2.3.1 CNN setup <a class=\"anchor\" id=\"3.1\"></a>"
   ]
  },
  {
   "cell_type": "code",
   "execution_count": null,
   "metadata": {},
   "outputs": [],
   "source": []
  },
  {
   "cell_type": "markdown",
   "metadata": {},
   "source": [
    "#### 2.3.2 CNN baseline <a class=\"anchor\" id=\"3.2\"></a>"
   ]
  },
  {
   "cell_type": "code",
   "execution_count": null,
   "metadata": {},
   "outputs": [],
   "source": []
  },
  {
   "cell_type": "markdown",
   "metadata": {},
   "source": [
    "#### 2.3.3 EfficientNet scaling of CNN <a class=\"anchor\" id=\"3.3\"></a>"
   ]
  },
  {
   "cell_type": "code",
   "execution_count": null,
   "metadata": {},
   "outputs": [],
   "source": []
  }
 ],
 "metadata": {
  "kernelspec": {
   "display_name": "Python 3",
   "language": "python",
   "name": "python3"
  },
  "language_info": {
   "codemirror_mode": {
    "name": "ipython",
    "version": 3
   },
   "file_extension": ".py",
   "mimetype": "text/x-python",
   "name": "python",
   "nbconvert_exporter": "python",
   "pygments_lexer": "ipython3",
   "version": "3.6.5"
  }
 },
 "nbformat": 4,
 "nbformat_minor": 2
}
