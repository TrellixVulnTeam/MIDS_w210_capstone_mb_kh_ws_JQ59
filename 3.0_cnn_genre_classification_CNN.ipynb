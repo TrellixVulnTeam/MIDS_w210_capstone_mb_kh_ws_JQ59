{
 "cells": [
  {
   "cell_type": "markdown",
   "metadata": {},
   "source": [
    "## 3.0 CNN Genre Classification\n",
    "\n",
    "This notebook continues with supervised learning using the generated spectorgrams to do genre classification and prediction."
   ]
  },
  {
   "cell_type": "markdown",
   "metadata": {},
   "source": [
    "### Table of Contents\n",
    "[3.1. Setup](#1.)<br>\n",
    "[3.1.1 Loading libraries](#1.1)<br>\n",
    "[3.1.2 Setting data directories](#1.2)<br>\n",
    "[3.1.3 Defining functions](#1.3)<br>\n",
    "[3.1.4 Reading in train, validation, and test data sets](#1.4)<br>\n",
    "\n",
    "[3.2. Convolutional Neural Network](#2.)<br>\n",
    "[2.3.1 CNN setup](#2.1)<br>\n",
    "[2.3.2 2D CNN](#2.2)<br>\n",
    "[2.3.3 1D CNN](#2.3)<br>"
   ]
  },
  {
   "cell_type": "markdown",
   "metadata": {},
   "source": [
    "### 3.1. Setup <a class=\"anchor\" id=\"1.\"></a>"
   ]
  },
  {
   "cell_type": "markdown",
   "metadata": {},
   "source": [
    "#### 3.1.1 Loading libraries <a class=\"anchor\" id=\"1.1\"></a>"
   ]
  },
  {
   "cell_type": "code",
   "execution_count": 1,
   "metadata": {},
   "outputs": [],
   "source": [
    "import os\n",
    "import numpy as np\n",
    "import pandas as pd\n",
    "import random\n",
    "import librosa\n",
    "import librosa.display\n",
    "import matplotlib.pyplot as plt\n",
    "%matplotlib inline\n",
    "\n",
    "import timeit\n",
    "import datetime\n",
    "\n",
    "from sklearn import preprocessing"
   ]
  },
  {
   "cell_type": "markdown",
   "metadata": {},
   "source": [
    "#### 3.1.2 Setting data directories <a class=\"anchor\" id=\"1.2\"></a>"
   ]
  },
  {
   "cell_type": "code",
   "execution_count": 2,
   "metadata": {},
   "outputs": [
    {
     "name": "stdout",
     "output_type": "stream",
     "text": [
      "Directory of spectrograms: ./data/spect_subsample_5x10s_np\n"
     ]
    }
   ],
   "source": [
    "ds_description = '5x10s'\n",
    "# Set the directory for the spectrograms\n",
    "data_dir = f'./data/spect_subsample_{ds_description}_np'\n",
    "print(\"Directory of spectrograms: {}\".format(data_dir))"
   ]
  },
  {
   "cell_type": "code",
   "execution_count": 13,
   "metadata": {},
   "outputs": [],
   "source": [
    "genre_dict = {0 : 'Hip-Hop',\n",
    "              1 : 'Pop',\n",
    "              2 : 'Folk',\n",
    "              3 : 'Experimental',\n",
    "              4 : 'Rock',\n",
    "              5 : 'International',\n",
    "              6 : 'Electronic',\n",
    "              7 : 'Instrumental'}"
   ]
  },
  {
   "cell_type": "markdown",
   "metadata": {},
   "source": [
    "#### 3.1.3 Defining functions <a class=\"anchor\" id=\"1.3\"></a>"
   ]
  },
  {
   "cell_type": "code",
   "execution_count": 39,
   "metadata": {},
   "outputs": [],
   "source": [
    "def load_data(data_dir, ds_description, str_X, str_Y):\n",
    "    '''\n",
    "    Loads the .npy data files generated previously from the pre-processing ipynb\n",
    "    Note: .npy files need to be in the format: train_spect_{ds_description}_np.npy\n",
    "    \n",
    "    Inputs\n",
    "    ------\n",
    "    data_dir: directory of the .npy files\n",
    "    ds_description: e.g. '5x10s'  5 subsamples of 10s length\n",
    "    str_X: str name of the 'X' data, either: 'spect' or 'X'\n",
    "    str_Y: str name of the 'Y' data, either: 'labels' or 'Y'\n",
    "    \n",
    "    Returns\n",
    "    -------\n",
    "    6 numpy arrays of:\n",
    "        train_{str_X}, train_{str_Y}, val_{str_X}, val_{str_Y}, test_{str_X}, test_{str_Y}\n",
    "    '''\n",
    "    assert (str_X in ['spect','X']), \"Assertion Error, str_X must be either 'spect' or 'X'.\"\n",
    "    assert (str_Y in ['labels','Y']), \"Assertion Error, str_Y must be either 'labels' or 'Y'.\"\n",
    "    \n",
    "    print(\"Loading .npy data files...\")\n",
    "    # Start timer\n",
    "    start_time = timeit.default_timer()\n",
    "\n",
    "    train_str_X = np.load(f'{data_dir}/train_{str_X}_{ds_description}_np.npy')\n",
    "    val_str_X = np.load(f'{data_dir}/val_{str_X}_{ds_description}_np.npy')\n",
    "    test_str_X = np.load(f'{data_dir}/test_{str_X}_{ds_description}_np.npy')\n",
    "\n",
    "    train_str_Y = np.load(f'{data_dir}/train_{str_Y}_{ds_description}_np.npy')\n",
    "    val_str_Y = np.load(f'{data_dir}/val_{str_Y}_{ds_description}_np.npy')\n",
    "    test_str_Y = np.load(f'{data_dir}/test_{str_Y}_{ds_description}_np.npy')\n",
    "    \n",
    "    elapsed = str(datetime.timedelta(seconds = timeit.default_timer() - start_time))\n",
    "    print(\"\", end='\\n')\n",
    "    print(\"Total processing time (h:mm:ss): {}\".format(elapsed[:-7]))\n",
    "    print(\"\\nLoaded .npy data files, verifying shape of saved data...\")\n",
    "    print(f\"Shape of 'train_{str_X}':\", train_str_X.shape)\n",
    "    print(f\"Shape of 'train_{str_Y}':\", train_str_Y.shape)\n",
    "\n",
    "    print(f\"Shape of 'val_{str_X}':\", val_str_X.shape)\n",
    "    print(f\"Shape of 'val_{str_Y}':\", val_str_Y.shape)\n",
    "\n",
    "    print(f\"Shape of 'test_{str_X}':\", test_str_X.shape)\n",
    "    print(f\"Shape of 'test_{str_Y}':\", test_str_Y.shape)\n",
    "    \n",
    "    return train_str_X, train_str_Y, val_str_X, val_str_Y, test_str_X, test_str_Y\n",
    "\n",
    "\n",
    "def mkdir_p(mypath):\n",
    "    '''\n",
    "    Creates a directory. equivalent to using mkdir -p on the command line\n",
    "    '''\n",
    "    from errno import EEXIST\n",
    "    from os import makedirs,path\n",
    "\n",
    "    try:\n",
    "        makedirs(mypath)\n",
    "    except OSError as exc: \n",
    "        if exc.errno == EEXIST and path.isdir(mypath):\n",
    "            pass\n",
    "        else: raise"
   ]
  },
  {
   "cell_type": "markdown",
   "metadata": {},
   "source": [
    "#### 3.1.4 Reading in train, validation, and test data sets <a class=\"anchor\" id=\"1.4\"></a>"
   ]
  },
  {
   "cell_type": "code",
   "execution_count": 5,
   "metadata": {},
   "outputs": [
    {
     "name": "stdout",
     "output_type": "stream",
     "text": [
      "Loading .npy data files...\n",
      "\n",
      "Total processing time (h:mm:ss): 0:00:40\n",
      "\n",
      "Loaded .npy data files, verifying shape of saved data...\n",
      "Shape of 'train_X': (31970, 431, 128)\n",
      "Shape of 'train_Y': (31970, 8)\n",
      "Shape of 'val_X': (4000, 431, 128)\n",
      "Shape of 'val_Y': (4000, 8)\n",
      "Shape of 'test_X': (4000, 431, 128)\n",
      "Shape of 'test_Y': (4000, 8)\n"
     ]
    }
   ],
   "source": [
    "# Read in the spectrogram and labels data from the .npy files\n",
    "train_X, train_Y, val_X, val_Y, test_X, test_Y = load_data(\n",
    "    data_dir, ds_description, 'X', 'Y')"
   ]
  },
  {
   "cell_type": "markdown",
   "metadata": {},
   "source": [
    "### 3.2. Convolutional Neural Network <a class=\"anchor\" id=\"2.\"></a>"
   ]
  },
  {
   "cell_type": "markdown",
   "metadata": {},
   "source": [
    "#### 3.2.1 CNN setup <a class=\"anchor\" id=\"2.1\"></a>"
   ]
  },
  {
   "cell_type": "code",
   "execution_count": 18,
   "metadata": {},
   "outputs": [],
   "source": [
    "import keras\n",
    "from keras.models import Sequential, Model\n",
    "from keras.layers import Input, Dense, Bidirectional, CuDNNLSTM, Dropout, Activation, CuDNNGRU\n",
    "from keras.layers import Conv1D, Conv2D, concatenate, MaxPooling1D, MaxPooling2D, Flatten, Embedding, Lambda\n",
    "\n",
    "from keras.callbacks import ModelCheckpoint, TensorBoard, ReduceLROnPlateau\n",
    "from keras import backend as K\n",
    "from keras.utils import np_utils\n",
    "from keras.optimizers import Adam, RMSprop\n",
    "\n",
    "from keras import regularizers\n",
    "\n",
    "from os.path import isfile"
   ]
  },
  {
   "cell_type": "markdown",
   "metadata": {},
   "source": [
    "#### 3.2.2 2D CNN <a class=\"anchor\" id=\"2.2\"></a>"
   ]
  },
  {
   "cell_type": "code",
   "execution_count": 40,
   "metadata": {},
   "outputs": [
    {
     "name": "stdout",
     "output_type": "stream",
     "text": [
      "Directory of model parameters to be saved: ./models/cnn2D_1\n"
     ]
    }
   ],
   "source": [
    "model_name = 'cnn2D_1'\n",
    "model_dir = f'./models/{model_name}'\n",
    "print(\"Directory of model parameters to be saved: {}\".format(model_dir))"
   ]
  },
  {
   "cell_type": "code",
   "execution_count": 41,
   "metadata": {},
   "outputs": [],
   "source": [
    "# Define hyper-parameters\n",
    "hp = {'batch_size' : 32,\n",
    "      'num_classes' : len(genre_dict),\n",
    "      'kernel_size' : (3,3),\n",
    "      'filter_size' : 3,\n",
    "      'strides' : 1,\n",
    "      'activation' : 'relu',\n",
    "      'pool_size' : (2,2),\n",
    "      'epochs' : 30,\n",
    "      'optimizer' : 'adam'\n",
    "     }\n",
    "num_classes = len(genre_dict)"
   ]
  },
  {
   "cell_type": "code",
   "execution_count": 43,
   "metadata": {},
   "outputs": [
    {
     "name": "stdout",
     "output_type": "stream",
     "text": [
      "Training...\n",
      "Train on 31970 samples, validate on 4000 samples\n",
      "Epoch 1/30\n",
      "31970/31970 [==============================] - 23s 712us/step - loss: 1.7991 - acc: 0.3328 - val_loss: 1.8718 - val_acc: 0.3310\n",
      "\n",
      "Epoch 00001: val_acc improved from -inf to 0.33100, saving model to ./models/cnn2D_1/weights.best.h5\n",
      "Epoch 2/30\n",
      "31970/31970 [==============================] - 22s 701us/step - loss: 1.4952 - acc: 0.4718 - val_loss: 1.8865 - val_acc: 0.3523\n",
      "\n",
      "Epoch 00002: val_acc improved from 0.33100 to 0.35225, saving model to ./models/cnn2D_1/weights.best.h5\n",
      "Epoch 3/30\n",
      "31970/31970 [==============================] - 22s 701us/step - loss: 1.3202 - acc: 0.5454 - val_loss: 1.9910 - val_acc: 0.3277\n",
      "\n",
      "Epoch 00003: val_acc did not improve from 0.35225\n",
      "Epoch 4/30\n",
      "31970/31970 [==============================] - 22s 696us/step - loss: 1.1761 - acc: 0.6041 - val_loss: 2.0654 - val_acc: 0.3270\n",
      "\n",
      "Epoch 00004: val_acc did not improve from 0.35225\n",
      "Epoch 5/30\n",
      "31970/31970 [==============================] - 22s 701us/step - loss: 1.0521 - acc: 0.6522 - val_loss: 2.0494 - val_acc: 0.3515\n",
      "\n",
      "Epoch 00005: val_acc did not improve from 0.35225\n",
      "Epoch 6/30\n",
      "31970/31970 [==============================] - 22s 702us/step - loss: 0.9370 - acc: 0.6941 - val_loss: 2.1846 - val_acc: 0.3320\n",
      "\n",
      "Epoch 00006: val_acc did not improve from 0.35225\n",
      "Epoch 7/30\n",
      "31970/31970 [==============================] - 22s 702us/step - loss: 0.8317 - acc: 0.7373 - val_loss: 2.2065 - val_acc: 0.3480\n",
      "\n",
      "Epoch 00007: val_acc did not improve from 0.35225\n",
      "Epoch 8/30\n",
      "31970/31970 [==============================] - 22s 693us/step - loss: 0.7350 - acc: 0.7732 - val_loss: 2.3759 - val_acc: 0.3305\n",
      "\n",
      "Epoch 00008: val_acc did not improve from 0.35225\n",
      "Epoch 9/30\n",
      "31970/31970 [==============================] - 22s 702us/step - loss: 0.6513 - acc: 0.7999 - val_loss: 2.5304 - val_acc: 0.3180\n",
      "\n",
      "Epoch 00009: val_acc did not improve from 0.35225\n",
      "Epoch 10/30\n",
      "31970/31970 [==============================] - 22s 697us/step - loss: 0.5665 - acc: 0.8335 - val_loss: 2.7694 - val_acc: 0.3038\n",
      "\n",
      "Epoch 00010: val_acc did not improve from 0.35225\n",
      "Epoch 11/30\n",
      "31970/31970 [==============================] - 22s 696us/step - loss: 0.4890 - acc: 0.8625 - val_loss: 2.8088 - val_acc: 0.3167\n",
      "\n",
      "Epoch 00011: val_acc did not improve from 0.35225\n",
      "Epoch 12/30\n",
      "31970/31970 [==============================] - 22s 694us/step - loss: 0.4289 - acc: 0.8816 - val_loss: 3.0844 - val_acc: 0.3045\n",
      "\n",
      "Epoch 00012: val_acc did not improve from 0.35225\n",
      "\n",
      "Epoch 00012: ReduceLROnPlateau reducing learning rate to 0.0005000000237487257.\n",
      "Epoch 13/30\n",
      "31970/31970 [==============================] - 22s 699us/step - loss: 0.3194 - acc: 0.9266 - val_loss: 3.0888 - val_acc: 0.3095\n",
      "\n",
      "Epoch 00013: val_acc did not improve from 0.35225\n",
      "Epoch 14/30\n",
      "31970/31970 [==============================] - 22s 699us/step - loss: 0.2798 - acc: 0.9418 - val_loss: 3.2074 - val_acc: 0.3190\n",
      "\n",
      "Epoch 00014: val_acc did not improve from 0.35225\n",
      "Epoch 15/30\n",
      "31970/31970 [==============================] - 22s 700us/step - loss: 0.2511 - acc: 0.9496 - val_loss: 3.4045 - val_acc: 0.3015\n",
      "\n",
      "Epoch 00015: val_acc did not improve from 0.35225\n",
      "Epoch 16/30\n",
      "31970/31970 [==============================] - 22s 704us/step - loss: 0.2245 - acc: 0.9580 - val_loss: 3.4823 - val_acc: 0.3053\n",
      "\n",
      "Epoch 00016: val_acc did not improve from 0.35225\n",
      "Epoch 17/30\n",
      "31970/31970 [==============================] - 23s 706us/step - loss: 0.1984 - acc: 0.9663 - val_loss: 3.5583 - val_acc: 0.3045\n",
      "\n",
      "Epoch 00017: val_acc did not improve from 0.35225\n",
      "Epoch 18/30\n",
      "31970/31970 [==============================] - 23s 706us/step - loss: 0.1731 - acc: 0.9733 - val_loss: 3.6964 - val_acc: 0.3095\n",
      "\n",
      "Epoch 00018: val_acc did not improve from 0.35225\n",
      "Epoch 19/30\n",
      "31970/31970 [==============================] - 22s 701us/step - loss: 0.1514 - acc: 0.9791 - val_loss: 3.8111 - val_acc: 0.3020\n",
      "\n",
      "Epoch 00019: val_acc did not improve from 0.35225\n",
      "Epoch 20/30\n",
      "31970/31970 [==============================] - 22s 694us/step - loss: 0.1317 - acc: 0.9837 - val_loss: 3.9329 - val_acc: 0.3068\n",
      "\n",
      "Epoch 00020: val_acc did not improve from 0.35225\n",
      "Epoch 21/30\n",
      "31970/31970 [==============================] - 22s 699us/step - loss: 0.1171 - acc: 0.9864 - val_loss: 4.0416 - val_acc: 0.3078\n",
      "\n",
      "Epoch 00021: val_acc did not improve from 0.35225\n",
      "Epoch 22/30\n",
      "31970/31970 [==============================] - 23s 704us/step - loss: 0.1006 - acc: 0.9899 - val_loss: 4.1534 - val_acc: 0.2983\n",
      "\n",
      "Epoch 00022: val_acc did not improve from 0.35225\n",
      "\n",
      "Epoch 00022: ReduceLROnPlateau reducing learning rate to 0.0002500000118743628.\n",
      "Epoch 23/30\n",
      "31970/31970 [==============================] - 22s 696us/step - loss: 0.0753 - acc: 0.9949 - val_loss: 4.2072 - val_acc: 0.3035\n",
      "\n",
      "Epoch 00023: val_acc did not improve from 0.35225\n",
      "Epoch 24/30\n",
      "31970/31970 [==============================] - 23s 704us/step - loss: 0.0669 - acc: 0.9961 - val_loss: 4.3038 - val_acc: 0.3108\n",
      "\n",
      "Epoch 00024: val_acc did not improve from 0.35225\n",
      "Epoch 25/30\n",
      "31970/31970 [==============================] - 22s 695us/step - loss: 0.0607 - acc: 0.9967 - val_loss: 4.3649 - val_acc: 0.3120\n",
      "\n",
      "Epoch 00025: val_acc did not improve from 0.35225\n",
      "Epoch 26/30\n",
      "31970/31970 [==============================] - 22s 693us/step - loss: 0.0559 - acc: 0.9975 - val_loss: 4.5020 - val_acc: 0.2990\n",
      "\n",
      "Epoch 00026: val_acc did not improve from 0.35225\n",
      "Epoch 27/30\n",
      "31970/31970 [==============================] - 22s 700us/step - loss: 0.0504 - acc: 0.9978 - val_loss: 4.5263 - val_acc: 0.3040\n",
      "\n",
      "Epoch 00027: val_acc did not improve from 0.35225\n",
      "Epoch 28/30\n",
      "31970/31970 [==============================] - 22s 696us/step - loss: 0.0440 - acc: 0.9984 - val_loss: 4.6801 - val_acc: 0.3005\n",
      "\n",
      "Epoch 00028: val_acc did not improve from 0.35225\n",
      "Epoch 29/30\n",
      "31970/31970 [==============================] - 23s 707us/step - loss: 0.0426 - acc: 0.9982 - val_loss: 4.7306 - val_acc: 0.3050\n",
      "\n",
      "Epoch 00029: val_acc did not improve from 0.35225\n",
      "Epoch 30/30\n",
      "31970/31970 [==============================] - 23s 709us/step - loss: 0.0352 - acc: 0.9989 - val_loss: 4.7979 - val_acc: 0.3028\n",
      "\n",
      "Epoch 00030: val_acc did not improve from 0.35225\n"
     ]
    }
   ],
   "source": [
    "# Adding additional dimension for Conv2D\n",
    "train_X1 = np.expand_dims(train_X, axis = -1)\n",
    "val_X1 = np.expand_dims(val_X, axis = -1)\n",
    "\n",
    "# Building the model\n",
    "model = Sequential()\n",
    "model.add(Conv2D(filters=hp['filter_size'],\n",
    "                 kernel_size=hp['kernel_size'], \n",
    "                 strides=hp['strides'],\n",
    "                 activation=hp['activation'],\n",
    "                 input_shape=train_X1.shape[1:]\n",
    "                ))\n",
    "model.add(MaxPooling2D(pool_size=hp['pool_size']))\n",
    "model.add(Flatten())\n",
    "model.add(Dense(num_classes, activation='softmax'))\n",
    "\n",
    "# Complie the model\n",
    "model.compile(\n",
    "            loss='categorical_crossentropy',\n",
    "            optimizer=hp['optimizer'],\n",
    "            metrics=['accuracy']\n",
    "            )\n",
    "\n",
    "# Create the directory for model parameters to be saved\n",
    "mkdir_p(model_dir)\n",
    "\n",
    "checkpoint_callback = ModelCheckpoint(f'{model_dir}/weights.best.h5', monitor='val_acc', verbose=1,\n",
    "                                          save_best_only=True, mode='max')\n",
    "    \n",
    "reducelr_callback = ReduceLROnPlateau(\n",
    "            monitor='val_acc', factor=0.5, patience=10, min_delta=0.01,\n",
    "            verbose=1\n",
    "        )\n",
    "callbacks_list = [checkpoint_callback, reducelr_callback]\n",
    "\n",
    "# Fit the model and get training history.\n",
    "print('Training...')\n",
    "history = model.fit(train_X1, train_Y, batch_size=hp['batch_size'], epochs=hp['epochs'],\n",
    "                    validation_data=(val_X1, val_Y), verbose=1, callbacks=callbacks_list)"
   ]
  },
  {
   "cell_type": "code",
   "execution_count": 45,
   "metadata": {},
   "outputs": [
    {
     "name": "stdout",
     "output_type": "stream",
     "text": [
      "dict_keys(['val_loss', 'val_acc', 'loss', 'acc', 'lr'])\n"
     ]
    },
    {
     "data": {
      "image/png": "[encoded data removed]",
      "text/plain": [
       "<Figure size 432x288 with 1 Axes>"
      ]
     },
     "metadata": {},
     "output_type": "display_data"
    },
    {
     "data": {
      "image/png": "[encoded data removed]",
      "text/plain": [
       "<Figure size 432x288 with 1 Axes>"
      ]
     },
     "metadata": {},
     "output_type": "display_data"
    }
   ],
   "source": [
    "def show_summary_stats(history):\n",
    "    # List all data in history\n",
    "    print(history.history.keys())\n",
    "\n",
    "    # Summarize history for accuracy\n",
    "    plt.plot(history.history['acc'])\n",
    "    plt.plot(history.history['val_acc'])\n",
    "    plt.title('model accuracy')\n",
    "    plt.ylabel('accuracy')\n",
    "    plt.xlabel('epoch')\n",
    "    plt.legend(['train', 'test'], loc='upper left')\n",
    "    plt.show()\n",
    "\n",
    "    # Summarize history for loss\n",
    "    plt.plot(history.history['loss'])\n",
    "    plt.plot(history.history['val_loss'])\n",
    "    plt.title('model loss')\n",
    "    plt.ylabel('loss')\n",
    "    plt.xlabel('epoch')\n",
    "    plt.legend(['train', 'test'], loc='upper left')\n",
    "    plt.show()\n",
    "show_summary_stats(history)"
   ]
  },
  {
   "cell_type": "markdown",
   "metadata": {},
   "source": [
    "#### 3.2.3 1D CNN <a class=\"anchor\" id=\"2.3\"></a>"
   ]
  },
  {
   "cell_type": "code",
   "execution_count": 83,
   "metadata": {
    "scrolled": true
   },
   "outputs": [
    {
     "name": "stdout",
     "output_type": "stream",
     "text": [
      "Directory of model parameters to be saved: ./models/cnn1D_16\n",
      "_________________________________________________________________\n",
      "Layer (type)                 Output Shape              Param #   \n",
      "=================================================================\n",
      "conv1d_1 (Conv1D)            (None, 429, 64)           24640     \n",
      "_________________________________________________________________\n",
      "max_pooling1d_1 (MaxPooling1 (None, 214, 64)           0         \n",
      "_________________________________________________________________\n",
      "conv1d_2 (Conv1D)            (None, 210, 128)          41088     \n",
      "_________________________________________________________________\n",
      "max_pooling1d_2 (MaxPooling1 (None, 70, 128)           0         \n",
      "_________________________________________________________________\n",
      "flatten_1 (Flatten)          (None, 8960)              0         \n",
      "_________________________________________________________________\n",
      "dense_1 (Dense)              (None, 16)                143376    \n",
      "_________________________________________________________________\n",
      "dense_2 (Dense)              (None, 32)                544       \n",
      "_________________________________________________________________\n",
      "dense_3 (Dense)              (None, 8)                 264       \n",
      "=================================================================\n",
      "Total params: 209,912\n",
      "Trainable params: 209,912\n",
      "Non-trainable params: 0\n",
      "_________________________________________________________________\n",
      "None\n",
      "Training...\n",
      "Train on 31970 samples, validate on 4000 samples\n",
      "Epoch 1/30\n",
      "31970/31970 [==============================] - 22s 673us/step - loss: 2.0338 - acc: 0.2637 - val_loss: 1.8580 - val_acc: 0.3165\n",
      "\n",
      "Epoch 00001: val_acc improved from -inf to 0.31650, saving model to ./models/cnn1D_16/weights.best.h5\n",
      "Epoch 2/30\n",
      "31970/31970 [==============================] - 21s 642us/step - loss: 1.7780 - acc: 0.3530 - val_loss: 1.7808 - val_acc: 0.3287\n",
      "\n",
      "Epoch 00002: val_acc improved from 0.31650 to 0.32875, saving model to ./models/cnn1D_16/weights.best.h5\n",
      "Epoch 3/30\n",
      "31970/31970 [==============================] - 20s 640us/step - loss: 1.7343 - acc: 0.3684 - val_loss: 1.7085 - val_acc: 0.3718\n",
      "\n",
      "Epoch 00003: val_acc improved from 0.32875 to 0.37175, saving model to ./models/cnn1D_16/weights.best.h5\n",
      "Epoch 4/30\n",
      "31970/31970 [==============================] - 21s 647us/step - loss: 1.6980 - acc: 0.3905 - val_loss: 1.7945 - val_acc: 0.3473\n",
      "\n",
      "Epoch 00004: val_acc did not improve from 0.37175\n",
      "Epoch 5/30\n",
      "31970/31970 [==============================] - 21s 642us/step - loss: 1.6556 - acc: 0.4086 - val_loss: 1.7059 - val_acc: 0.4045\n",
      "\n",
      "Epoch 00005: val_acc improved from 0.37175 to 0.40450, saving model to ./models/cnn1D_16/weights.best.h5\n",
      "Epoch 6/30\n",
      "31970/31970 [==============================] - 20s 635us/step - loss: 1.6249 - acc: 0.4223 - val_loss: 1.6776 - val_acc: 0.4007\n",
      "\n",
      "Epoch 00006: val_acc did not improve from 0.40450\n",
      "Epoch 7/30\n",
      "31970/31970 [==============================] - 21s 645us/step - loss: 1.6219 - acc: 0.4239 - val_loss: 1.6722 - val_acc: 0.4148\n",
      "\n",
      "Epoch 00007: val_acc improved from 0.40450 to 0.41475, saving model to ./models/cnn1D_16/weights.best.h5\n",
      "Epoch 8/30\n",
      "31970/31970 [==============================] - 21s 649us/step - loss: 1.5969 - acc: 0.4319 - val_loss: 1.7129 - val_acc: 0.3932\n",
      "\n",
      "Epoch 00008: val_acc did not improve from 0.41475\n",
      "Epoch 9/30\n",
      "31970/31970 [==============================] - 21s 648us/step - loss: 1.5868 - acc: 0.4367 - val_loss: 1.6415 - val_acc: 0.4193\n",
      "\n",
      "Epoch 00009: val_acc improved from 0.41475 to 0.41925, saving model to ./models/cnn1D_16/weights.best.h5\n",
      "Epoch 10/30\n",
      "31970/31970 [==============================] - 21s 642us/step - loss: 1.5785 - acc: 0.4419 - val_loss: 1.6842 - val_acc: 0.4032\n",
      "\n",
      "Epoch 00010: val_acc did not improve from 0.41925\n",
      "Epoch 11/30\n",
      "31970/31970 [==============================] - 20s 639us/step - loss: 1.5624 - acc: 0.4468 - val_loss: 1.6762 - val_acc: 0.4040\n",
      "\n",
      "Epoch 00011: val_acc did not improve from 0.41925\n",
      "Epoch 12/30\n",
      "31970/31970 [==============================] - 20s 637us/step - loss: 1.5535 - acc: 0.4509 - val_loss: 1.6058 - val_acc: 0.4365\n",
      "\n",
      "Epoch 00012: val_acc improved from 0.41925 to 0.43650, saving model to ./models/cnn1D_16/weights.best.h5\n",
      "Epoch 13/30\n",
      "31970/31970 [==============================] - 20s 639us/step - loss: 1.5559 - acc: 0.4510 - val_loss: 1.7832 - val_acc: 0.3872\n",
      "\n",
      "Epoch 00013: val_acc did not improve from 0.43650\n",
      "Epoch 14/30\n",
      "31970/31970 [==============================] - 21s 645us/step - loss: 1.5441 - acc: 0.4567 - val_loss: 1.6252 - val_acc: 0.4303\n",
      "\n",
      "Epoch 00014: val_acc did not improve from 0.43650\n",
      "Epoch 15/30\n",
      "31970/31970 [==============================] - 21s 648us/step - loss: 1.5317 - acc: 0.4587 - val_loss: 1.6706 - val_acc: 0.4075\n",
      "\n",
      "Epoch 00015: val_acc did not improve from 0.43650\n",
      "Epoch 16/30\n",
      "31970/31970 [==============================] - 20s 640us/step - loss: 1.5268 - acc: 0.4666 - val_loss: 1.6586 - val_acc: 0.4368\n",
      "\n",
      "Epoch 00016: val_acc improved from 0.43650 to 0.43675, saving model to ./models/cnn1D_16/weights.best.h5\n",
      "Epoch 17/30\n",
      "31970/31970 [==============================] - 20s 638us/step - loss: 1.5162 - acc: 0.4704 - val_loss: 1.6349 - val_acc: 0.4392\n",
      "\n",
      "Epoch 00017: val_acc improved from 0.43675 to 0.43925, saving model to ./models/cnn1D_16/weights.best.h5\n",
      "Epoch 18/30\n",
      "31970/31970 [==============================] - 21s 641us/step - loss: 1.5141 - acc: 0.4704 - val_loss: 1.6358 - val_acc: 0.4425\n",
      "\n",
      "Epoch 00018: val_acc improved from 0.43925 to 0.44250, saving model to ./models/cnn1D_16/weights.best.h5\n",
      "Epoch 19/30\n",
      "31970/31970 [==============================] - 21s 644us/step - loss: 1.5030 - acc: 0.4761 - val_loss: 1.6652 - val_acc: 0.4390\n",
      "\n",
      "Epoch 00019: val_acc did not improve from 0.44250\n",
      "Epoch 20/30\n",
      "31970/31970 [==============================] - 20s 641us/step - loss: 1.4995 - acc: 0.4783 - val_loss: 1.6187 - val_acc: 0.4480\n",
      "\n",
      "Epoch 00020: val_acc improved from 0.44250 to 0.44800, saving model to ./models/cnn1D_16/weights.best.h5\n",
      "Epoch 21/30\n",
      "31970/31970 [==============================] - 21s 644us/step - loss: 1.4932 - acc: 0.4825 - val_loss: 1.6189 - val_acc: 0.4530\n",
      "\n",
      "Epoch 00021: val_acc improved from 0.44800 to 0.45300, saving model to ./models/cnn1D_16/weights.best.h5\n",
      "Epoch 22/30\n",
      "31970/31970 [==============================] - 20s 640us/step - loss: 1.4881 - acc: 0.4824 - val_loss: 1.6530 - val_acc: 0.4315\n",
      "\n",
      "Epoch 00022: val_acc did not improve from 0.45300\n",
      "Epoch 23/30\n",
      "31970/31970 [==============================] - 20s 641us/step - loss: 1.4826 - acc: 0.4848 - val_loss: 1.7966 - val_acc: 0.3787\n",
      "\n",
      "Epoch 00023: val_acc did not improve from 0.45300\n",
      "Epoch 24/30\n",
      "31970/31970 [==============================] - 21s 641us/step - loss: 1.4775 - acc: 0.4880 - val_loss: 1.6118 - val_acc: 0.4522\n",
      "\n",
      "Epoch 00024: val_acc did not improve from 0.45300\n",
      "Epoch 25/30\n",
      "31970/31970 [==============================] - 21s 641us/step - loss: 1.4726 - acc: 0.4899 - val_loss: 1.6467 - val_acc: 0.4323\n",
      "\n",
      "Epoch 00025: val_acc did not improve from 0.45300\n",
      "Epoch 26/30\n",
      "31970/31970 [==============================] - 21s 644us/step - loss: 1.4664 - acc: 0.4944 - val_loss: 1.6592 - val_acc: 0.4360\n",
      "\n",
      "Epoch 00026: val_acc did not improve from 0.45300\n",
      "Epoch 27/30\n",
      "31970/31970 [==============================] - 21s 642us/step - loss: 1.4656 - acc: 0.4928 - val_loss: 1.6306 - val_acc: 0.4442\n",
      "\n",
      "Epoch 00027: val_acc did not improve from 0.45300\n",
      "Epoch 28/30\n",
      "31970/31970 [==============================] - 21s 646us/step - loss: 1.4535 - acc: 0.4998 - val_loss: 1.6744 - val_acc: 0.4350\n",
      "\n",
      "Epoch 00028: val_acc did not improve from 0.45300\n",
      "Epoch 29/30\n",
      "31970/31970 [==============================] - 21s 643us/step - loss: 1.4603 - acc: 0.4964 - val_loss: 1.6055 - val_acc: 0.4632\n",
      "\n",
      "Epoch 00029: val_acc improved from 0.45300 to 0.46325, saving model to ./models/cnn1D_16/weights.best.h5\n",
      "Epoch 30/30\n",
      "31970/31970 [==============================] - 21s 645us/step - loss: 1.4514 - acc: 0.5024 - val_loss: 1.7252 - val_acc: 0.4233\n",
      "\n",
      "Epoch 00030: val_acc did not improve from 0.46325\n"
     ]
    }
   ],
   "source": [
    "model_name = 'cnn1D_16'\n",
    "model_dir = f'./models/{model_name}'\n",
    "print(\"Directory of model parameters to be saved: {}\".format(model_dir))\n",
    "\n",
    "# Define hyper-parameters\n",
    "hp = {'batch_size' : 32,\n",
    "      'kernel_size1' : 3,\n",
    "      'kernel_size2' : 5,\n",
    "      'filter_size1' : 64,\n",
    "      'filter_size2' : 128,\n",
    "      'strides' : 1,\n",
    "      'activation' : 'relu',\n",
    "      'pool_size1' : 2,\n",
    "      'pool_size2' : 3,\n",
    "      'l2' : 0.01,\n",
    "      'epochs' : 30,\n",
    "      'optimizer' : 'adam',\n",
    "      'dense1' : 16,\n",
    "      'dense2' : 32\n",
    "     }\n",
    "num_classes = len(genre_dict)\n",
    "\n",
    "# Building the model\n",
    "K.clear_session()\n",
    "model = Sequential()\n",
    "model.add(Conv1D(filters=hp['filter_size1'],\n",
    "                 kernel_size=hp['kernel_size1'], \n",
    "                 strides=hp['strides'],\n",
    "                 activation=hp['activation'],\n",
    "                 kernel_regularizer=regularizers.l2(hp['l2']),\n",
    "                 input_shape=train_X.shape[1:]\n",
    "                ))\n",
    "model.add(MaxPooling1D(pool_size=hp['pool_size1']))\n",
    "\n",
    "model.add(Conv1D(filters=hp['filter_size2'],\n",
    "                 kernel_size=hp['kernel_size2'], \n",
    "                 strides=hp['strides'],\n",
    "                 activation=hp['activation'],\n",
    "                 kernel_regularizer=regularizers.l2(hp['l2'])\n",
    "                ))\n",
    "model.add(MaxPooling1D(pool_size=hp['pool_size2']))\n",
    "\n",
    "model.add(Flatten())\n",
    "model.add(Dense(hp['dense1'], activation='relu'))\n",
    "model.add(Dense(hp['dense2'], activation='relu'))\n",
    "model.add(Dense(num_classes, activation='softmax'))\n",
    "\n",
    "# Complie the model\n",
    "model.compile(\n",
    "            loss='categorical_crossentropy',\n",
    "            optimizer=hp['optimizer'],\n",
    "            metrics=['accuracy']\n",
    "            )\n",
    "\n",
    "# Print model summary\n",
    "print(model.summary())\n",
    "\n",
    "# Create the directory for model parameters to be saved\n",
    "mkdir_p(model_dir)\n",
    "\n",
    "checkpoint_callback = ModelCheckpoint(f'{model_dir}/weights.best.h5', monitor='val_acc', verbose=1,\n",
    "                                          save_best_only=True, mode='max')\n",
    "    \n",
    "reducelr_callback = ReduceLROnPlateau(\n",
    "            monitor='val_acc', factor=0.5, patience=10, min_delta=0.01,\n",
    "            verbose=1\n",
    "        )\n",
    "callbacks_list = [checkpoint_callback, reducelr_callback]\n",
    "\n",
    "# Fit the model and get training history.\n",
    "print('Training...')\n",
    "history = model.fit(train_X, train_Y, batch_size=hp['batch_size'], epochs=hp['epochs'],\n",
    "                    validation_data=(val_X, val_Y), verbose=1, callbacks=callbacks_list)\n",
    "    "
   ]
  },
  {
   "cell_type": "code",
   "execution_count": 84,
   "metadata": {},
   "outputs": [
    {
     "name": "stdout",
     "output_type": "stream",
     "text": [
      "dict_keys(['val_loss', 'val_acc', 'loss', 'acc', 'lr'])\n"
     ]
    },
    {
     "data": {
      "image/png": "[encoded data removed]",
      "text/plain": [
       "<Figure size 432x288 with 1 Axes>"
      ]
     },
     "metadata": {},
     "output_type": "display_data"
    },
    {
     "data": {
      "image/png": "[encoded data removed]",
      "text/plain": [
       "<Figure size 432x288 with 1 Axes>"
      ]
     },
     "metadata": {},
     "output_type": "display_data"
    }
   ],
   "source": [
    "show_summary_stats(history)"
   ]
  },
  {
   "cell_type": "markdown",
   "metadata": {},
   "source": [
    "#### To rerun with more epochs: cnn1D_15"
   ]
  },
  {
   "cell_type": "code",
   "execution_count": 82,
   "metadata": {},
   "outputs": [
    {
     "name": "stdout",
     "output_type": "stream",
     "text": [
      "dict_keys(['val_loss', 'val_acc', 'loss', 'acc', 'lr'])\n"
     ]
    },
    {
     "data": {
      "image/png": "[encoded data removed]",
      "text/plain": [
       "<Figure size 432x288 with 1 Axes>"
      ]
     },
     "metadata": {},
     "output_type": "display_data"
    },
    {
     "data": {
      "image/png": "[encoded data removed]",
      "text/plain": [
       "<Figure size 432x288 with 1 Axes>"
      ]
     },
     "metadata": {},
     "output_type": "display_data"
    }
   ],
   "source": [
    "show_summary_stats(history)"
   ]
  }
 ],
 "metadata": {
  "kernelspec": {
   "display_name": "Python 3",
   "language": "python",
   "name": "python3"
  },
  "language_info": {
   "codemirror_mode": {
    "name": "ipython",
    "version": 3
   },
   "file_extension": ".py",
   "mimetype": "text/x-python",
   "name": "python",
   "nbconvert_exporter": "python",
   "pygments_lexer": "ipython3",
   "version": "3.6.5"
  }
 },
 "nbformat": 4,
 "nbformat_minor": 2
}
