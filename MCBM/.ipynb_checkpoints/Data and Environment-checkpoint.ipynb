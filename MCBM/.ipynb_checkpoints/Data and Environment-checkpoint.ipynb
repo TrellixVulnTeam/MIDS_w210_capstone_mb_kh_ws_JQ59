{
 "cells": [
  {
   "cell_type": "markdown",
   "metadata": {},
   "source": [
    "# Getting started: Data and Environment"
   ]
  },
  {
   "cell_type": "markdown",
   "metadata": {},
   "source": [
    "## Getting the Data \n",
    "\n",
    "Here is an incomplete catalog of music data sources available online.\n",
    "\n",
    "<table>\n",
    "    <tr> \n",
    "        <th> Source Name </th> <th> Link </th> <th> Data available </th> <th> Size </th> <th> Restrictions and Limitations </th>\n",
    "    </tr>    \n",
    "    <tr>\n",
    "        <td> Spotify </td><td> <a href = \"https://www.spotify.com/us/\"> X </a> </td><td> Songs in .ogg format, metadata. </td><td> 35 million songs </td><td> Songs are DRM encrypted. Workarounds exist?</td>\n",
    "    </tr>\n",
    "    <tr>\n",
    "        <td> Million Songs Database </td><td> <a href = \"http://millionsongdataset.com/\"> X </a> </td><td> Metadata, 7 digital song id. </td><td> 1 million songs </td><td> No audio, 7 digital link requires API key. </td>\n",
    "    </tr>\n",
    "    <tr>\n",
    "        <td> GTZAN </td><td> <a href = \"http://marsyas.info/downloads/datasets.html\"> X </a> </td><td> Songs in .wav format, genre labels. </td><td> 1000 snippets, 30s each. </td><td> Small, no titles or artists. </td>\n",
    "    </tr>\n",
    "    <tr>\n",
    "        <td> Free Music Archive (FMA) </td><td> <a href = \"https://github.com/mdeff/fma\"> X </a> </td><td> Songs in mp3 format format, metadata. </td><td> 100,000 songs </td><td>  </td>\n",
    "    </tr>\n",
    "    <tr>\n",
    "        <td> Youtube </td><td> <a href = \"https://www.youtube.com/\"> X </a> </td><td> Videos containing music. </td><td> 300 million videos labelled \"music\". </td><td> Need to extract mp3, metadata availability variable. </td>\n",
    "    </tr>\n",
    "    <tr hidden>\n",
    "        <td>  </td><td> <a href = \"\"> X </a> </td><td>  </td><td>  </td><td>  </td>\n",
    "    </tr>\n",
    "    <tr hidden>\n",
    "        <td>  </td><td> <a href = \"\"> X </a> </td><td>  </td><td>  </td><td>  </td>\n",
    "    </tr>\n",
    "</table>\n",
    "\n",
    "Other possibilities:\n",
    "\n",
    "http://cosmal.ucsd.edu/cal/projects/AnnRet/AnnRet.php - can't access it?\n",
    "\n",
    "https://staff.aist.go.jp/m.goto/RWC-MDB/ - smallish\n",
    "\n",
    "http://tagatune.org/ - unclear how to download\n",
    "\n",
    "https://www.reddit.com/r/datasets/comments/3akhxy/the_largest_midi_collection_on_the_internet/\n",
    "\n",
    "\n",
    "#### thoughts (mcbm)\n",
    "\n",
    "The easiest data sources to start with seem to be GTZAN and FMA, since they have both audio and some metadata available. With FMA we should have enough data to train a reasonably complicated model. For a final product, figuring out how to read music from Youtube and/or Spotify seems like the only way this actually gets used by real people. Also, the sooner we figure that out, the more training data we have."
   ]
  },
  {
   "cell_type": "markdown",
   "metadata": {},
   "source": [
    "## Environment setup\n",
    "\n",
    "Install librosa: conda install -c conda-forge librosa\n",
    "\n",
    "\n",
    "for fma to run, need fma utils file \"utils.py\" from their github:\n",
    "\n",
    "pip install python-dotenv\n",
    "\n",
    "pip install pydot\n",
    "\n",
    "\n",
    "Currently running in an anaconda virtualenv. Eventually create docker container in google cloud?"
   ]
  },
  {
   "cell_type": "markdown",
   "metadata": {},
   "source": [
    "## Existing tutorials and methods\n",
    "\n",
    "<table>\n",
    "    <tr><th> Label </th> <th> Description </th></tr>\n",
    "    <tr><td> <a href = \"https://towardsdatascience.com/music-genre-classification-with-python-c714d032f0d8\"> Music Genre Classification with Python</a> </td> <td>  Getting, visualizing, and processing data with librosa. Genre classification with a vanilla neural network.</td></tr>\n",
    "    <tr><td> <a href = \"https://towardsdatascience.com/using-cnns-and-rnns-for-music-genre-recognition-2435fb2ed6af\"> Using CNNs and RNNs for Music Genre Recognition </a> </td> <td> Architectures that use both CNN and RNN. </td></tr>\n",
    "    <tr><td> </td> <td> </td></tr>\n",
    "</table>"
   ]
  },
  {
   "cell_type": "code",
   "execution_count": null,
   "metadata": {},
   "outputs": [],
   "source": []
  }
 ],
 "metadata": {
  "kernelspec": {
   "display_name": "Python for GPU",
   "language": "python",
   "name": "tensorflow_gpuenv"
  },
  "language_info": {
   "codemirror_mode": {
    "name": "ipython",
    "version": 3
   },
   "file_extension": ".py",
   "mimetype": "text/x-python",
   "name": "python",
   "nbconvert_exporter": "python",
   "pygments_lexer": "ipython3",
   "version": "3.6.8"
  }
 },
 "nbformat": 4,
 "nbformat_minor": 2
}
